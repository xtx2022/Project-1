{
 "cells": [
  {
   "cell_type": "code",
   "execution_count": 45,
   "metadata": {},
   "outputs": [],
   "source": [
    "import numpy as np\n",
    "import matplotlib.pyplot as plt\n",
    "\n",
    "class image_unit:\n",
    "    def __init__(self) -> None:\n",
    "        self.num_of_points = 0\n",
    "        self.cord_of_points = np.array([])\n",
    "        self.raw_image = np.array([])\n",
    "    def print_data(self) -> None:\n",
    "        print(self.num_of_points)\n",
    "        print(self.cord_of_points)\n",
    "        print(self.raw_image)\n",
    "        # Plotting the array as a grayscale image\n",
    "        plt.imshow(self.raw_image, cmap='viridis')\n",
    "        plt.colorbar()  # Adding a colorbar to show intensity scale\n",
    "        plt.title('Visualization')\n",
    "        plt.xlabel('X-axis')\n",
    "        plt.ylabel('Y-axis')\n",
    "        plt.show()"
   ]
  },
  {
   "cell_type": "code",
   "execution_count": 46,
   "metadata": {},
   "outputs": [
    {
     "name": "stdout",
     "output_type": "stream",
     "text": [
      "100\n",
      "No. 1\n",
      "<class 'numpy.float64'>\n",
      "10\n",
      "[[ 4.90713266 28.03953829]\n",
      " [32.84440351 13.57851211]\n",
      " [52.97361097 13.17095481]\n",
      " [ 6.08836544  8.06791729]\n",
      " [16.43699632 10.29119369]\n",
      " [51.67877819 59.35360808]\n",
      " [30.56994402 52.70290573]\n",
      " [20.15551056 48.03884791]\n",
      " [41.31064392  7.4202662 ]\n",
      " [22.6720807  19.91307516]]\n",
      "[[0. 0. 0. ... 0. 0. 0.]\n",
      " [0. 0. 0. ... 0. 0. 0.]\n",
      " [0. 0. 0. ... 0. 0. 0.]\n",
      " ...\n",
      " [0. 0. 0. ... 0. 0. 0.]\n",
      " [0. 0. 0. ... 0. 0. 0.]\n",
      " [0. 0. 0. ... 0. 0. 0.]]\n"
     ]
    },
    {
     "data": {
      "image/png": "[encoded data removed]",
      "text/plain": [
       "<Figure size 432x288 with 2 Axes>"
      ]
     },
     "metadata": {
      "needs_background": "light"
     },
     "output_type": "display_data"
    }
   ],
   "source": [
    "# Specify the path to your text file\n",
    "file_path = './Clusters_2D_100.txt'\n",
    "images = []\n",
    "\n",
    "# For every image:\n",
    "# Line 1: number of points(10)\n",
    "# Line 2-11: exact positions of the points\n",
    "# Others: grayscale image\n",
    "with open(file_path, 'r') as file:\n",
    "    cop = [] # Store cordinates of points tempoarily\n",
    "    ri = [] # Store raw image tempoarily\n",
    "    for line in file:\n",
    "        numbers = []\n",
    "        numbers = [float(s) for s in line.strip().split()]\n",
    "        if len(numbers) == 1:\n",
    "            if len(images) > 0:\n",
    "                images[-1].raw_image = np.array(ri).T\n",
    "                ri.clear()\n",
    "            images.append(image_unit())\n",
    "            images[-1].num_of_points = int(numbers[0])\n",
    "        elif len(numbers) == 2:\n",
    "            cop.append(numbers)\n",
    "            if len(cop) == images[-1].num_of_points:\n",
    "                images[-1].cord_of_points = np.array(cop)\n",
    "                cop.clear()\n",
    "        else:\n",
    "            ri.append(numbers)\n",
    "    images[-1].raw_image = np.array(ri).T\n",
    "\n",
    "print(len(images))\n",
    "\n",
    "# Print the list of numbers\n",
    "for i in range(1):\n",
    "    print('No.', i + 1)\n",
    "    print(type(images[i].raw_image[0][0]))\n",
    "    images[i].print_data()"
   ]
  },
  {
   "cell_type": "code",
   "execution_count": 47,
   "metadata": {},
   "outputs": [
    {
     "name": "stdout",
     "output_type": "stream",
     "text": [
      "Local Maxima: [(7, 41), (8, 6), (10, 16), (13, 32), (13, 52), (19, 22), (28, 4), (48, 20), (52, 30), (59, 51)]\n"
     ]
    }
   ],
   "source": [
    "def find_local_maxima(matrix):\n",
    "    rows = len(matrix)\n",
    "    cols = len(matrix[0])\n",
    "    \n",
    "    def is_local_maxima(i, j):\n",
    "        current = matrix[i][j]\n",
    "        # Check all eight possible neighbors\n",
    "        neighbors = [\n",
    "            (i-1, j-1), (i-1, j), (i-1, j+1),\n",
    "            (i, j-1),            (i, j+1),\n",
    "            (i+1, j-1), (i+1, j), (i+1, j+1)\n",
    "        ]\n",
    "        for x, y in neighbors:\n",
    "            if 0 <= x < rows and 0 <= y < cols:\n",
    "                if matrix[x][y] >= current:\n",
    "                    return False\n",
    "        return True\n",
    "\n",
    "    local_maxima = []\n",
    "    for i in range(rows):\n",
    "        for j in range(cols):\n",
    "            if is_local_maxima(i, j):\n",
    "                local_maxima.append((j, i))\n",
    "    \n",
    "    return local_maxima\n",
    "\n",
    "# 查找局部最大值 Find the local maximum\n",
    "local_maxima = find_local_maxima(images[0].raw_image)\n",
    "\n",
    "\n",
    "print(\"Local Maxima:\", local_maxima) # 局部最大值的位置"
   ]
  },
  {
   "cell_type": "code",
   "execution_count": 48,
   "metadata": {},
   "outputs": [],
   "source": [
    "import cv2\n",
    "\n",
    "# Define the color (B, G, R) and thickness of the cross marks\n",
    "# color = (0, 255, 0)  # Green color\n",
    "# cross_length = 10  # Length of the cross arms\n",
    "# thickness = 2  # Thickness of the lines\n",
    "def mark_point(image: np.array, points: list, color = (0, 255, 0), cross_length = 2, thickness = 1) -> np.array:\n",
    "    # Ensure the image is a NumPy array with the correct dtype\n",
    "    if image.dtype != np.uint8:\n",
    "        marked_image = (image / np.max(image) * 255).astype(np.uint8)\n",
    "    else:\n",
    "        marked_image = np.copy(image)\n",
    "    if len(marked_image.shape) == 2 or (len(marked_image.shape) == 3 and marked_image.shape[2] == 1):\n",
    "        marked_image = cv2.applyColorMap(marked_image, cv2.COLORMAP_JET)\n",
    "    for (x, y) in points:\n",
    "        cv2.line(marked_image, (x - cross_length, y - cross_length), (x + cross_length, y + cross_length), color, thickness)\n",
    "        cv2.line(marked_image, (x + cross_length, y - cross_length), (x - cross_length, y + cross_length), color, thickness)\n",
    "    # Display the image with marked points\n",
    "    cv2.imshow('Image with Marked Points', marked_image)\n",
    "    return marked_image"
   ]
  },
  {
   "cell_type": "code",
   "execution_count": 52,
   "metadata": {},
   "outputs": [
    {
     "name": "stdout",
     "output_type": "stream",
     "text": [
      "[(4.90713265801572, 28.039538291703874), (32.84440350822294, 13.578512105334035), (52.973610967129076, 13.170954812016848), (6.088365442640924, 8.067917290512826), (16.436996322861567, 10.291193687624183), (51.67877819316273, 59.35360808253424), (30.56994401674475, 52.702905728831574), (20.15551056223808, 48.038847909050986), (41.31064392120531, 7.420266202730436), (22.67208069830488, 19.913075159064046)]\n"
     ]
    },
    {
     "data": {
      "image/png": "[encoded data removed]",
      "text/plain": [
       "<Figure size 432x288 with 2 Axes>"
      ]
     },
     "metadata": {
      "needs_background": "light"
     },
     "output_type": "display_data"
    },
    {
     "ename": "",
     "evalue": "",
     "output_type": "error",
     "traceback": [
      "\u001b[1;31mThe Kernel crashed while executing code in the current cell or a previous cell. \n",
      "\u001b[1;31mPlease review the code in the cell(s) to identify a possible cause of the failure. \n",
      "\u001b[1;31mClick <a href='https://aka.ms/vscodeJupyterKernelCrash'>here</a> for more info. \n",
      "\u001b[1;31mView Jupyter <a href='command:jupyter.viewOutput'>log</a> for further details."
     ]
    }
   ],
   "source": [
    "print([tuple(row) for row in images[0].cord_of_points])\n",
    "marked_test = mark_point(images[0].raw_image, find_local_maxima(images[0].raw_image))\n",
    "cv2.imshow('Image with Marked Points', marked_test)\n",
    "plt.imshow(marked_test)\n",
    "plt.colorbar()  # Adding a colorbar to show intensity scale\n",
    "plt.title('Visualization')\n",
    "plt.xlabel('X-axis')\n",
    "plt.ylabel('Y-axis')\n",
    "plt.show()\n",
    "# marked_test = mark_point(marked_test, [tuple(row) for row in images[0].cord_of_points])\n"
   ]
  },
  {
   "cell_type": "code",
   "execution_count": 50,
   "metadata": {},
   "outputs": [
    {
     "ename": "NameError",
     "evalue": "name 'weighted_average_coordinates' is not defined",
     "output_type": "error",
     "traceback": [
      "\u001b[1;31m---------------------------------------------------------------------------\u001b[0m",
      "\u001b[1;31mNameError\u001b[0m                                 Traceback (most recent call last)",
      "Input \u001b[1;32mIn [50]\u001b[0m, in \u001b[0;36m<cell line: 58>\u001b[1;34m()\u001b[0m\n\u001b[0;32m     56\u001b[0m matrix \u001b[38;5;241m=\u001b[39m images[\u001b[38;5;241m0\u001b[39m]\u001b[38;5;241m.\u001b[39mraw_image\n\u001b[0;32m     57\u001b[0m \u001b[38;5;66;03m# 查找局部最大值的坐标并分类非零点，然后计算每组的加权平均坐标\u001b[39;00m\n\u001b[1;32m---> 58\u001b[0m num_weighted_average_points \u001b[38;5;241m=\u001b[39m \u001b[38;5;28mlen\u001b[39m(\u001b[43mweighted_average_coordinates\u001b[49m)\n\u001b[0;32m     59\u001b[0m \u001b[38;5;28mprint\u001b[39m(\u001b[38;5;124m\"\u001b[39m\u001b[38;5;124m加权平均点的个数：\u001b[39m\u001b[38;5;124m\"\u001b[39m, num_weighted_average_points)\n\u001b[0;32m     60\u001b[0m weighted_average_coordinates \u001b[38;5;241m=\u001b[39m find_weighted_average_coordinates(matrix)\n",
      "\u001b[1;31mNameError\u001b[0m: name 'weighted_average_coordinates' is not defined"
     ]
    }
   ],
   "source": [
    "def find_weighted_average_coordinates(matrix):\n",
    "    rows = len(matrix)\n",
    "    cols = len(matrix[0])\n",
    "    \n",
    "    def is_local_maxima(i, j):\n",
    "        current = matrix[i][j]\n",
    "        # Check all eight possible neighbors\n",
    "        neighbors = [\n",
    "            (i-1, j-1), (i-1, j), (i-1, j+1),\n",
    "            (i, j-1),            (i, j+1),\n",
    "            (i+1, j-1), (i+1, j), (i+1, j+1)\n",
    "        ]\n",
    "        for x, y in neighbors:\n",
    "            if 0 <= x < rows and 0 <= y < cols:\n",
    "                if matrix[x][y] >= current:\n",
    "                    return False\n",
    "        return True\n",
    "\n",
    "    # Find local maxima coordinates\n",
    "    local_maxima = []\n",
    "    for i in range(rows):\n",
    "        for j in range(cols):\n",
    "            if is_local_maxima(i, j):\n",
    "                local_maxima.append((i, j))\n",
    "    \n",
    "    # Classify non-zero points based on their nearest local maxima\n",
    "    groups = {}\n",
    "    for i in range(rows):\n",
    "        for j in range(cols):\n",
    "            if matrix[i][j] != 0:\n",
    "                min_distance = float('inf')\n",
    "                nearest_maxima = None\n",
    "                for x, y in local_maxima:\n",
    "                    distance = abs(x - i) + abs(y - j)\n",
    "                    if distance < min_distance:\n",
    "                        min_distance = distance\n",
    "                        nearest_maxima = (x, y)\n",
    "                if nearest_maxima not in groups:\n",
    "                    groups[nearest_maxima] = []\n",
    "                groups[nearest_maxima].append((i, j, matrix[i][j]))  # Include the value of the point\n",
    "    \n",
    "    # Calculate the weighted average coordinates of each group\n",
    "    result = []\n",
    "    for key, points in groups.items():\n",
    "        total_weight = sum(p[2] for p in points)\n",
    "        if total_weight == 0:\n",
    "            raise ValueError(\"Total weight cannot be zero\")\n",
    "        weighted_sum_x = sum(p[0] * p[2] for p in points)\n",
    "        weighted_sum_y = sum(p[1] * p[2] for p in points)\n",
    "        avg_coordinates = (weighted_sum_x / total_weight, weighted_sum_y / total_weight)\n",
    "        result.append(avg_coordinates)\n",
    "    \n",
    "    return result\n",
    "\n",
    "# 示例矩阵\n",
    "matrix = images[0].raw_image\n",
    "# 查找局部最大值的坐标并分类非零点，然后计算每组的加权平均坐标\n",
    "num_weighted_average_points = len(weighted_average_coordinates)\n",
    "print(\"加权平均点的个数：\", num_weighted_average_points)\n",
    "weighted_average_coordinates = find_weighted_average_coordinates(matrix)\n",
    "print(\"每一组的加权平均坐标：\", weighted_average_coordinates)\n"
   ]
  }
 ],
 "metadata": {
  "kernelspec": {
   "display_name": "Python 3",
   "language": "python",
   "name": "python3"
  },
  "language_info": {
   "codemirror_mode": {
    "name": "ipython",
    "version": 3
   },
   "file_extension": ".py",
   "mimetype": "text/x-python",
   "name": "python",
   "nbconvert_exporter": "python",
   "pygments_lexer": "ipython3",
   "version": "3.9.12"
  }
 },
 "nbformat": 4,
 "nbformat_minor": 2
}
