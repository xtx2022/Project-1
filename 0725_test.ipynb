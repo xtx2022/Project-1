{
 "cells": [
  {
   "cell_type": "code",
   "execution_count": 1,
   "metadata": {},
   "outputs": [],
   "source": [
    "from find_and_judge import *"
   ]
  },
  {
   "cell_type": "code",
   "execution_count": 2,
   "metadata": {},
   "outputs": [
    {
     "data": {
      "image/png": "[encoded data removed]",
      "text/plain": [
       "<Figure size 432x288 with 2 Axes>"
      ]
     },
     "metadata": {
      "needs_background": "light"
     },
     "output_type": "display_data"
    },
    {
     "data": {
      "image/png": "[encoded data removed]",
      "text/plain": [
       "<Figure size 432x288 with 2 Axes>"
      ]
     },
     "metadata": {
      "needs_background": "light"
     },
     "output_type": "display_data"
    },
    {
     "name": "stdout",
     "output_type": "stream",
     "text": [
      "[0.5 0.5]\n",
      "[[array([1.5, 1.5])], [array([2.07142857, 1.5       ])], [array([1.5       , 2.16666667])]]\n",
      "[[array([1.5, 1.5])], [array([1.6, 1.5])], [array([1.5 , 1.75])]]\n",
      "[[array([1, 1])], [array([2, 1])], [array([1, 2])]]\n",
      "[[array([1, 1])], [array([1, 1])], [array([1, 1])]]\n"
     ]
    }
   ],
   "source": [
    "arr = [\n",
    "    np.array(\n",
    "    [[1.0, 1.0, 1.0],\n",
    "    [1.0, 1.0, 1.0],\n",
    "    [1.0, 1.0, 1.0]]),\n",
    "    np.array(\n",
    "    [[1.0, 1.0, 1.0],\n",
    "    [1.0, 1.0, 2.0],\n",
    "    [1.0, 1.0, 1.0]]),\n",
    "    np.array(\n",
    "    [[1.0, 1.0, 1.0],\n",
    "    [1.0, 1.0, 1.0],\n",
    "    [2.0, 2.0, 2.0]])\n",
    "]\n",
    "\n",
    "found = [\n",
    "    [np.array([1, 1]),],\n",
    "    [np.array([2, 1]),],\n",
    "    [np.array([1, 2]),],\n",
    "]\n",
    "\n",
    "plt.imshow(arr[1], cmap='viridis')\n",
    "plt.colorbar()  # Adding a colorbar to show intensity scale\n",
    "plt.title('Visualization')\n",
    "plt.xlabel('X-axis')\n",
    "plt.ylabel('Y-axis')\n",
    "plt.show()\n",
    "\n",
    "plt.imshow(arr[2], cmap='viridis')\n",
    "plt.colorbar()  # Adding a colorbar to show intensity scale\n",
    "plt.title('Visualization')\n",
    "plt.xlabel('X-axis')\n",
    "plt.ylabel('Y-axis')\n",
    "plt.show()\n",
    "print(frac_part(arr[0], found[0][0], 1))\n",
    "print(get_float_result(arr, found, 1))\n",
    "print(get_float_result(arr, found, 2))\n",
    "print(get_float_result(arr, found, 1, to_int=True))\n",
    "print(get_float_result(arr, found, 2, to_int=True))"
   ]
  },
  {
   "cell_type": "code",
   "execution_count": null,
   "metadata": {},
   "outputs": [],
   "source": []
  }
 ],
 "metadata": {
  "kernelspec": {
   "display_name": "base",
   "language": "python",
   "name": "python3"
  },
  "language_info": {
   "codemirror_mode": {
    "name": "ipython",
    "version": 3
   },
   "file_extension": ".py",
   "mimetype": "text/x-python",
   "name": "python",
   "nbconvert_exporter": "python",
   "pygments_lexer": "ipython3",
   "version": "3.9.12"
  }
 },
 "nbformat": 4,
 "nbformat_minor": 2
}
