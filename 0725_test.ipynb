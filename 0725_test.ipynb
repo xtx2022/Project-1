{
 "cells": [
  {
   "cell_type": "code",
   "execution_count": 1,
   "metadata": {},
   "outputs": [],
   "source": [
    "from find_and_judge import *"
   ]
  },
  {
   "cell_type": "code",
   "execution_count": 6,
   "metadata": {},
   "outputs": [
    {
     "name": "stdout",
     "output_type": "stream",
     "text": [
      "[[1. 1. 1.]\n",
      " [1. 1. 1.]\n",
      " [1. 1. 1.]]\n",
      "[0.5 0.5]\n",
      "[[1. 1. 1.]\n",
      " [1. 1. 1.]\n",
      " [1. 1. 1.]]\n",
      "[[1. 1. 2.]\n",
      " [1. 1. 2.]\n",
      " [1. 1. 2.]]\n",
      "[[1. 1. 1.]\n",
      " [2. 2. 2.]\n",
      " [0. 0. 0.]]\n",
      "[[array([1.5, 1.5])], [array([1.5 , 1.75])], [array([1.16666667, 2.5       ])]]\n",
      "[[0. 0. 0. 0. 0.]\n",
      " [0. 1. 1. 1. 0.]\n",
      " [0. 1. 1. 1. 0.]\n",
      " [0. 1. 1. 1. 0.]\n",
      " [0. 0. 0. 0. 0.]]\n",
      "[[0. 0. 0. 0. 0.]\n",
      " [0. 1. 1. 2. 0.]\n",
      " [0. 1. 1. 2. 0.]\n",
      " [0. 1. 1. 2. 0.]\n",
      " [0. 0. 0. 0. 0.]]\n",
      "[[0. 1. 1. 1. 0.]\n",
      " [0. 1. 1. 1. 0.]\n",
      " [0. 2. 2. 2. 0.]\n",
      " [0. 0. 0. 0. 0.]\n",
      " [0. 0. 0. 0. 0.]]\n",
      "[[array([1.5, 1.5])], [array([1.5 , 1.75])], [array([0.75, 2.5 ])]]\n"
     ]
    }
   ],
   "source": [
    "arr = [\n",
    "    np.array(\n",
    "    [[1.0, 1.0, 1.0],\n",
    "    [1.0, 1.0, 1.0],\n",
    "    [1.0, 1.0, 1.0]]),\n",
    "    np.array(\n",
    "    [[1.0, 1.0, 2.0],\n",
    "    [1.0, 1.0, 2.0],\n",
    "    [1.0, 1.0, 2.0]]),\n",
    "    np.array(\n",
    "    [[1.0, 1.0, 1.0],\n",
    "    [1.0, 1.0, 1.0],\n",
    "    [2.0, 2.0, 2.0]])\n",
    "]\n",
    "\n",
    "found = [\n",
    "    [np.array([1, 1]),],\n",
    "    [np.array([1, 1]),],\n",
    "    [np.array([1, 2]),],\n",
    "]\n",
    "\n",
    "print(frac_part(arr[0], found[0][0], 1))\n",
    "print(get_float_result(arr, found, 1))\n",
    "print(get_float_result(arr, found, 2))"
   ]
  },
  {
   "cell_type": "code",
   "execution_count": null,
   "metadata": {},
   "outputs": [],
   "source": []
  }
 ],
 "metadata": {
  "kernelspec": {
   "display_name": "base",
   "language": "python",
   "name": "python3"
  },
  "language_info": {
   "codemirror_mode": {
    "name": "ipython",
    "version": 3
   },
   "file_extension": ".py",
   "mimetype": "text/x-python",
   "name": "python",
   "nbconvert_exporter": "python",
   "pygments_lexer": "ipython3",
   "version": "3.9.12"
  }
 },
 "nbformat": 4,
 "nbformat_minor": 2
}
