{
 "cells": [
  {
   "cell_type": "code",
   "execution_count": 27,
   "metadata": {},
   "outputs": [],
   "source": [
    "from find_and_judge import *\n",
    "import torch\n",
    "from torchsr.models import ninasr_b0\n",
    "from torchvision.transforms.functional import to_pil_image, to_tensor"
   ]
  },
  {
   "cell_type": "code",
   "execution_count": 29,
   "metadata": {},
   "outputs": [
    {
     "name": "stdout",
     "output_type": "stream",
     "text": [
      "torch.Size([1, 1, 64, 64])\n",
      "torch.Size([1, 3, 128, 128])\n"
     ]
    },
    {
     "ename": "NameError",
     "evalue": "name 'rgb_to_grayscale' is not defined",
     "output_type": "error",
     "traceback": [
      "\u001b[1;31m---------------------------------------------------------------------------\u001b[0m",
      "\u001b[1;31mNameError\u001b[0m                                 Traceback (most recent call last)",
      "Input \u001b[1;32mIn [29]\u001b[0m, in \u001b[0;36m<cell line: 7>\u001b[1;34m()\u001b[0m\n\u001b[0;32m     10\u001b[0m sr_t \u001b[38;5;241m=\u001b[39m model(lr_t)\n\u001b[0;32m     11\u001b[0m \u001b[38;5;28mprint\u001b[39m(sr_t\u001b[38;5;241m.\u001b[39mshape)\n\u001b[1;32m---> 12\u001b[0m sr \u001b[38;5;241m=\u001b[39m \u001b[43mrgb_to_grayscale\u001b[49m(sr_t\u001b[38;5;241m.\u001b[39msqueeze(\u001b[38;5;241m0\u001b[39m))\u001b[38;5;241m.\u001b[39msqueeze(\u001b[38;5;241m0\u001b[39m)\u001b[38;5;241m.\u001b[39mdetach()\u001b[38;5;241m.\u001b[39mcpu()\u001b[38;5;241m.\u001b[39mnumpy()\n\u001b[0;32m     13\u001b[0m \u001b[38;5;28mprint\u001b[39m(sr\u001b[38;5;241m.\u001b[39mshape)\n\u001b[0;32m     14\u001b[0m images_30_high_resolution\u001b[38;5;241m.\u001b[39mappend(sr)\n",
      "\u001b[1;31mNameError\u001b[0m: name 'rgb_to_grayscale' is not defined"
     ]
    }
   ],
   "source": [
    "images_30 = read_in_data('./Clusters_2D_100_30.txt')\n",
    "images_30_high_resolution = []\n",
    "\n",
    "# Download a pretrained NinaSR model\n",
    "model = ninasr_b0(scale=2, pretrained=True)\n",
    "\n",
    "for i in range(len(images_30)):\n",
    "    lr_t = torch.from_numpy(images_30[i].raw_image).unsqueeze(0).unsqueeze(0).float()\n",
    "    print(lr_t.shape)\n",
    "    sr_t = model(lr_t)\n",
    "    print(sr_t.shape)\n",
    "    sr = rgb_to_grayscale(sr_t.squeeze(0)).squeeze(0).detach().cpu().numpy()\n",
    "    print(sr.shape)\n",
    "    images_30_high_resolution.append(sr)\n",
    "\n",
    "for i in range(len(images_30_high_resolution)):\n",
    "    plt.imshow(images_30[i].raw_image)\n",
    "    plt.colorbar()  # Adding a colorbar to show intensity scale\n",
    "    plt.title('Visualization')\n",
    "    plt.xlabel('X-axis')\n",
    "    plt.ylabel('Y-axis')\n",
    "    plt.show()\n",
    "    plt.imshow(images_30_high_resolution[i], cmap='viridis')\n",
    "    plt.colorbar()  # Adding a colorbar to show intensity scale\n",
    "    plt.title('Visualization')\n",
    "    plt.xlabel('X-axis')\n",
    "    plt.ylabel('Y-axis')\n",
    "    plt.show()"
   ]
  }
 ],
 "metadata": {
  "kernelspec": {
   "display_name": "base",
   "language": "python",
   "name": "python3"
  },
  "language_info": {
   "codemirror_mode": {
    "name": "ipython",
    "version": 3
   },
   "file_extension": ".py",
   "mimetype": "text/x-python",
   "name": "python",
   "nbconvert_exporter": "python",
   "pygments_lexer": "ipython3",
   "version": "3.9.12"
  }
 },
 "nbformat": 4,
 "nbformat_minor": 2
}
